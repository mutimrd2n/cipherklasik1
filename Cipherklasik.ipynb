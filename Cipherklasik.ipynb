{
  "nbformat": 4,
  "nbformat_minor": 0,
  "metadata": {
    "colab": {
      "provenance": [],
      "authorship_tag": "ABX9TyNvdtVasa+XmLxERGIgHM8D",
      "include_colab_link": true
    },
    "kernelspec": {
      "name": "python3",
      "display_name": "Python 3"
    },
    "language_info": {
      "name": "python"
    }
  },
  "cells": [
    {
      "cell_type": "markdown",
      "metadata": {
        "id": "view-in-github",
        "colab_type": "text"
      },
      "source": [
        "<a href=\"https://colab.research.google.com/github/mutimrd2n/Kriptografi/blob/main/Cipherklasik.ipynb\" target=\"_parent\"><img src=\"https://colab.research.google.com/assets/colab-badge.svg\" alt=\"Open In Colab\"/></a>"
      ]
    },
    {
      "cell_type": "code",
      "execution_count": 1,
      "metadata": {
        "colab": {
          "base_uri": "https://localhost:8080/"
        },
        "id": "CTVUpKrJitUI",
        "outputId": "8300fe8a-035d-48da-8937-ef92787d0f4d"
      },
      "outputs": [
        {
          "output_type": "stream",
          "name": "stdout",
          "text": [
            "NXFLQJNXQHRQD\n"
          ]
        }
      ],
      "source": [
        "def caesar_encrypt(text, shift):\n",
        "    result = ''\n",
        "    for char in text:\n",
        "        if char.isalpha():\n",
        "            base = ord('A') if char.isupper() else ord('a')\n",
        "            result += chr((ord(char) - base + shift) % 26 + base)\n",
        "        else:\n",
        "            result += char\n",
        "    return result\n",
        "\n",
        "print(caesar_encrypt('KUCINGKUNEONA', 3))"
      ]
    },
    {
      "cell_type": "code",
      "source": [
        "def vigenere_encrypt(plain, key):\n",
        "    key = key.upper()\n",
        "    result = ''\n",
        "    for i, char in enumerate(plain.upper()):\n",
        "        if char.isalpha():\n",
        "            shift = ord(key[i % len(key)]) - 65\n",
        "            result += chr((ord(char) - 65 + shift) % 26 + 65)\n",
        "        else:\n",
        "            result += char\n",
        "    return result\n",
        "\n",
        "\n",
        "print(vigenere_encrypt('INFORMATION', 'TECH'))"
      ],
      "metadata": {
        "colab": {
          "base_uri": "https://localhost:8080/"
        },
        "id": "PA9JxaUtjARK",
        "outputId": "1019f4a7-8595-49b5-9b80-d5e88fdf6973"
      },
      "execution_count": 2,
      "outputs": [
        {
          "output_type": "stream",
          "name": "stdout",
          "text": [
            "BRHVKQCABSP\n"
          ]
        }
      ]
    },
    {
      "cell_type": "code",
      "source": [
        "def affine_encrypt(text, a, b):\n",
        "    result = ''\n",
        "    for char in text.upper():\n",
        "        if char.isalpha():\n",
        "            result += chr(((a * (ord(char) - 65) + b) % 26) + 65)\n",
        "        else:\n",
        "            result += char\n",
        "    return result\n",
        "\n",
        "\n",
        "print(affine_encrypt('KILLER', 5, 8))"
      ],
      "metadata": {
        "colab": {
          "base_uri": "https://localhost:8080/"
        },
        "id": "43mcebDvjFpY",
        "outputId": "dae9237e-7484-4503-ac82-459294becb0c"
      },
      "execution_count": 3,
      "outputs": [
        {
          "output_type": "stream",
          "name": "stdout",
          "text": [
            "GWLLCP\n"
          ]
        }
      ]
    },
    {
      "cell_type": "code",
      "source": [
        "def generate_table(key):\n",
        "    alphabet = 'ABCDEFGHIKLMNOPQRSTUVWXYZ'\n",
        "    table = ''\n",
        "    for c in key.upper() + alphabet:\n",
        "        if c not in table:\n",
        "            table += c\n",
        "    return [table[i:i+5] for i in range(0, 25, 5)]\n",
        "\n",
        "\n",
        "table = generate_table('KEYWORD')\n",
        "for row in table:\n",
        "    print(row)"
      ],
      "metadata": {
        "colab": {
          "base_uri": "https://localhost:8080/"
        },
        "id": "O_AOHdwcjMbZ",
        "outputId": "6eeeac92-f253-4d3b-b69b-2e14ff767b3e"
      },
      "execution_count": 4,
      "outputs": [
        {
          "output_type": "stream",
          "name": "stdout",
          "text": [
            "KEYWO\n",
            "RDABC\n",
            "FGHIL\n",
            "MNPQS\n",
            "TUVXZ\n"
          ]
        }
      ]
    },
    {
      "cell_type": "code",
      "source": [
        "import numpy as np\n",
        "\n",
        "def hill_encrypt(text, key):\n",
        "    text = text.upper().replace(' ', '')\n",
        "    n = int(len(key)**0.5)  # hitung ukuran matriks\n",
        "    key = np.array(key).reshape(n, n)\n",
        "    result = ''\n",
        "\n",
        "    for i in range(0, len(text), n):\n",
        "        block = [ord(c) - 65 for c in text[i:i+n]]\n",
        "        if len(block) < n:  # kalau huruf terakhir kurang, tambahkan X\n",
        "            block += [ord('X') - 65] * (n - len(block))\n",
        "        cipher = np.dot(key, block) % 26\n",
        "        result += ''.join(chr(c + 65) for c in cipher)\n",
        "    return result\n",
        "\n",
        "\n",
        "print(hill_encrypt('LALULINTAS', [3, 3, 2, 5]))"
      ],
      "metadata": {
        "colab": {
          "base_uri": "https://localhost:8080/"
        },
        "id": "G-JptmnIjPOQ",
        "outputId": "cc5a1f24-23cb-45b1-ea13-0b2da6021ff9"
      },
      "execution_count": 5,
      "outputs": [
        {
          "output_type": "stream",
          "name": "stdout",
          "text": [
            "HWPSFKSRCM\n"
          ]
        }
      ]
    }
  ]
}