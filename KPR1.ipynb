{
  "nbformat": 4,
  "nbformat_minor": 0,
  "metadata": {
    "colab": {
      "provenance": [],
      "authorship_tag": "ABX9TyMak893kRGm2dsV3okAG5hs",
      "include_colab_link": true
    },
    "kernelspec": {
      "name": "python3",
      "display_name": "Python 3"
    },
    "language_info": {
      "name": "python"
    }
  },
  "cells": [
    {
      "cell_type": "markdown",
      "metadata": {
        "id": "view-in-github",
        "colab_type": "text"
      },
      "source": [
        "<a href=\"https://colab.research.google.com/github/mutimrd2n/cipherklasik1/blob/main/KPR1.ipynb\" target=\"_parent\"><img src=\"https://colab.research.google.com/assets/colab-badge.svg\" alt=\"Open In Colab\"/></a>"
      ]
    },
    {
      "cell_type": "code",
      "execution_count": null,
      "metadata": {
        "colab": {
          "base_uri": "https://localhost:8080/"
        },
        "id": "qRz754TSPQuJ",
        "outputId": "47198689-aa7d-4fbe-9fd7-97129414b89b"
      },
      "outputs": [
        {
          "output_type": "stream",
          "name": "stdout",
          "text": [
            "=== Program Cipher Klasik (Caesar & Vigenère) ===\n",
            "\n",
            "--- Caesar Cipher ---\n"
          ]
        }
      ],
      "source": [
        "# === Caesar Cipher ===\n",
        "def caesar(text, shift, mode='encrypt'):\n",
        "    result = ''\n",
        "    for char in text.upper():\n",
        "        if char.isalpha():\n",
        "            base = ord('A')\n",
        "            if mode == 'encrypt':\n",
        "                result += chr((ord(char) - base + shift) % 26 + base)\n",
        "            else:\n",
        "                result += chr((ord(char) - base - shift) % 26 + base)\n",
        "        else:\n",
        "            result += char\n",
        "    return result\n",
        "\n",
        "# === Vigenère Cipher ===\n",
        "def vigenere(text, key, mode='encrypt'):\n",
        "    key = key.upper()\n",
        "    result = ''\n",
        "    for i, char in enumerate(text.upper()):\n",
        "        if char.isalpha():\n",
        "            shift = ord(key[i % len(key)]) - 65\n",
        "            if mode == 'encrypt':\n",
        "                result += chr((ord(char) - 65 + shift) % 26 + 65)\n",
        "            else:\n",
        "                result += chr((ord(char) - 65 - shift) % 26 + 65)\n",
        "        else:\n",
        "            result += char\n",
        "    return result\n",
        "\n",
        "\n",
        "# === MAIN PROGRAM ===\n",
        "print(\"=== Program Cipher Klasik (Caesar & Vigenère) ===\")\n",
        "\n",
        "# --- Input untuk Caesar Cipher ---\n",
        "print(\"\\n--- Caesar Cipher ---\")\n",
        "teks_caesar = input(\"Masukkan teks untuk Caesar: \")\n",
        "shift = int(input(\"Masukkan nilai shift: \"))\n",
        "\n",
        "# --- Input untuk Vigenère Cipher ---\n",
        "print(\"\\n--- Vigenère Cipher ---\")\n",
        "teks_vigenere = input(\"Masukkan teks untuk Vigenere: \")\n",
        "key = input(\"Masukkan kunci: \")\n",
        "\n",
        "# --- Proses Enkripsi ---\n",
        "hasil_caesar = caesar(teks_caesar, shift, 'encrypt')\n",
        "hasil_vigenere = vigenere(teks_vigenere, key, 'encrypt')\n",
        "\n",
        "# --- Proses Dekripsi ---\n",
        "balik_caesar = caesar(hasil_caesar, shift, 'decrypt')\n",
        "balik_vigenere = vigenere(hasil_vigenere, key, 'decrypt')\n",
        "\n",
        "# --- Tampilkan Hasil ---\n",
        "print(\"\\n=== HASIL ENKRIPSI ===\")\n",
        "print(f\"Caesar ({shift}): {hasil_caesar}\")\n",
        "print(f\"Vigenere ({key}): {hasil_vigenere}\")\n",
        "\n",
        "print(\"\\n=== HASIL DEKRIPSI ===\")\n",
        "print(f\"Caesar -> {balik_caesar}\")\n",
        "print(f\"Vigenere -> {balik_vigenere}\")\n",
        "\n",
        "# --- Simpan ke File ---\n",
        "with open(\"hasil_cipher.txt\", \"w\") as f:\n",
        "    f.write(\"=== HASIL ENKRIPSI ===\\n\")\n",
        "    f.write(f\"Caesar ({shift}): {hasil_caesar}\\n\")\n",
        "    f.write(f\"Vigenere ({key}): {hasil_vigenere}\\n\\n\")\n",
        "    f.write(\"=== HASIL DEKRIPSI ===\\n\")\n",
        "    f.write(f\"Caesar -> {balik_caesar}\\n\")\n",
        "    f.write(f\"Vigenere -> {balik_vigenere}\\n\")\n",
        "print(\"\\n✅ Semua hasil telah disimpan ke file: hasil_cipher.txt\")"
      ]
    }
  ]
}